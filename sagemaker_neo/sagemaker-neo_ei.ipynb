{
 "cells": [
  {
   "cell_type": "code",
   "execution_count": null,
   "id": "cfb1e1c4",
   "metadata": {},
   "outputs": [],
   "source": [
    "import sagemaker\n",
    "\n",
    "session = sagemaker.Session()\n",
    "bucket = \"sagemaker-subean\"\n",
    "role = sagemaker.get_execution_role()"
   ]
  },
  {
   "cell_type": "code",
   "execution_count": null,
   "id": "e457d703",
   "metadata": {},
   "outputs": [],
   "source": [
    "import tensorflow as tf\n",
    "print(tf.__version__)  \n",
    "tf_framework_version = tf.__version__"
   ]
  },
  {
   "cell_type": "code",
   "execution_count": null,
   "id": "085a8fd1",
   "metadata": {},
   "outputs": [],
   "source": [
    "import tensorflow as tf\n",
    "import tarfile\n",
    "import os\n",
    "\n",
    "tf.keras.backend.set_image_data_format(\"channels_last\")\n",
    "pretrained_model = tf.keras.applications.resnet50.ResNet50()\n",
    "saved_model_dir = \"1\"\n",
    "tf.saved_model.save(pretrained_model, saved_model_dir)"
   ]
  },
  {
   "cell_type": "code",
   "execution_count": null,
   "id": "9424b8be",
   "metadata": {},
   "outputs": [],
   "source": [
    "with tarfile.open(\"model.tar.gz\", \"w:gz\") as tar:\n",
    "    tar.add(saved_model_dir)"
   ]
  },
  {
   "cell_type": "code",
   "execution_count": null,
   "id": "029bae7e",
   "metadata": {},
   "outputs": [],
   "source": [
    "!saved_model_cli show --all --dir ./1"
   ]
  },
  {
   "cell_type": "code",
   "execution_count": null,
   "id": "762fb6b2",
   "metadata": {},
   "outputs": [],
   "source": [
    "from sagemaker.utils import name_from_base\n",
    "\n",
    "compilation_job_name = name_from_base(\"reKeras-ResNet50\")\n",
    "input_model_path = session.upload_data(\n",
    "    path=\"model.tar.gz\", bucket=bucket, key_prefix=compilation_job_name\n",
    ")\n",
    "print(\"S3 path for input model: {}\".format(input_model_path))\n"
   ]
  },
  {
   "cell_type": "code",
   "execution_count": null,
   "id": "22d86aac",
   "metadata": {
    "scrolled": true
   },
   "outputs": [],
   "source": [
    "from sagemaker.tensorflow import TensorFlowModel\n",
    "\n",
    "# Create a TensorFlow SageMaker model\n",
    "tensorflow_model = TensorFlowModel(model_data=input_model_path, role=role, framework_version='2.3')\n",
    "\n",
    "# Compile the model for EI accelerator in SageMaker Neo\n",
    "output_path = \"/\".join(input_model_path.split(\"/\")[:-1])\n"
   ]
  },
  {
   "cell_type": "code",
   "execution_count": null,
   "id": "fa0fb534",
   "metadata": {},
   "outputs": [],
   "source": [
    "original_predictor = tensorflow_model.deploy(\n",
    "    initial_instance_count=1, instance_type=\"ml.m5.xlarge\", accelerator_type=\"ml.eia2.large\"\n",
    ")"
   ]
  },
  {
   "cell_type": "code",
   "execution_count": null,
   "id": "d1b13630",
   "metadata": {},
   "outputs": [],
   "source": [
    "%%time\n",
    "import numpy as np\n",
    "\n",
    "random_input = np.random.rand(1, 224, 224, 3)\n",
    "prediction = original_predictor.predict({\"inputs\": random_input.tolist()})\n",
    "print(prediction)"
   ]
  },
  {
   "cell_type": "code",
   "execution_count": null,
   "id": "d8094208",
   "metadata": {},
   "outputs": [],
   "source": [
    "optimize_model = tensorflow_model.compile(\n",
    "    target_instance_family=\"ml_eia2\",\n",
    "    input_shape={\"input_1\": [1, 224, 224, 3]},\n",
    "    output_path=output_path,\n",
    "    role=role,\n",
    "    job_name=compilation_job_name,\n",
    "    framework=\"tensorflow\",\n",
    ")"
   ]
  },
  {
   "cell_type": "code",
   "execution_count": null,
   "id": "94e31af4",
   "metadata": {},
   "outputs": [],
   "source": [
    "optimize_predictor = optimize_model.deploy(\n",
    "    initial_instance_count=1, instance_type=\"ml.m5.xlarge\", accelerator_type=\"ml.eia2.large\"\n",
    ")"
   ]
  },
  {
   "cell_type": "code",
   "execution_count": null,
   "id": "a0e0a89b",
   "metadata": {},
   "outputs": [],
   "source": [
    "prediction = optimize_predictor.predict({\"inputs\": random_input.tolist()})"
   ]
  },
  {
   "cell_type": "code",
   "execution_count": null,
   "id": "728a6fba",
   "metadata": {},
   "outputs": [],
   "source": []
  },
  {
   "cell_type": "code",
   "execution_count": null,
   "id": "7adec196",
   "metadata": {},
   "outputs": [],
   "source": []
  }
 ],
 "metadata": {
  "kernelspec": {
   "display_name": "Python 3 (ipykernel)",
   "language": "python",
   "name": "python3"
  },
  "language_info": {
   "codemirror_mode": {
    "name": "ipython",
    "version": 3
   },
   "file_extension": ".py",
   "mimetype": "text/x-python",
   "name": "python",
   "nbconvert_exporter": "python",
   "pygments_lexer": "ipython3",
   "version": "3.9.7"
  }
 },
 "nbformat": 4,
 "nbformat_minor": 5
}
